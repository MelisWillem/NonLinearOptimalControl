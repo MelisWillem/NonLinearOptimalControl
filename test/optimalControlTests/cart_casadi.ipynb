{
 "cells": [
  {
   "cell_type": "code",
   "execution_count": 14,
   "id": "82d771e6",
   "metadata": {},
   "outputs": [],
   "source": [
    "import casadi as cd"
   ]
  },
  {
   "cell_type": "code",
   "execution_count": 27,
   "id": "a57b980a",
   "metadata": {},
   "outputs": [],
   "source": [
    "# Symbols/expressions\n",
    "number_of_states = 4\n",
    "number_of_inputs = 2\n",
    "\n",
    "# The system behavior:\n",
    "# dot_x0 = x_2\n",
    "# dot_x1 = x_3\n",
    "# dot_x2 = u_0/m\n",
    "# dot_x3 = u_1/m\n",
    "def system_equation(x, u):\n",
    "    m = 1\n",
    "    x0_dot = x[2]\n",
    "    x1_dot = x[3]\n",
    "    x2_dot = u[0]/m\n",
    "    x3_dot = u[1]/m\n",
    "\n",
    "    x_dot = cd.vertcat(x0_dot, x1_dot, x2_dot, x3_dot)\n",
    "    \n",
    "    return x_dot\n",
    "\n",
    "def integrator_RK(x, step_size, function_system):\n",
    "    \"\"\"\n",
    "    Integrate with Runga Kutta\n",
    "    Parameters\n",
    "    x : state\n",
    "    step_size\n",
    "    function_system\n",
    "    \"\"\"\n",
    "    k1 = function_system(x)\n",
    "    k2 = function_system(x + step_size * k1 / 2)\n",
    "    k3 = function_system(x + step_size * k2 / 2)\n",
    "    k4 = function_system(x + step_size * k3)\n",
    "    x_new = x + (step_size / 6) * (k1 + 2 * k2 + 2 * k3 + k4)\n",
    "    \n",
    "    return  x_new\n",
    "\n",
    "def integrator_explicit_euler(x, step_size, function_system):\n",
    "    \"\"\"\n",
    "    Integrate with explicit Euler\n",
    "    Parameters\n",
    "    ---------\n",
    "    x : state\n",
    "    step_size\n",
    "    function_system\n",
    "    \"\"\"\n",
    "    x_dot = function_system(x)\n",
    "    return x + step_size*x_dot \n",
    "\n",
    "def generate_casadi_func_behavior(step_size):\n",
    "    state = cd.SX.sym('func_state', number_of_states, 1)\n",
    "    input = cd.SX.sym('func_input', number_of_inputs , 1)\n",
    "\n",
    "    def b_descr(x, u):\n",
    "        b = lambda x_: system_equation(x_, u) # curry out the u\n",
    "        return integrator_explicit_euler(x, step_size, b)\n",
    "\n",
    "    integrator = cd.Function('integrator', [state, input], [b_descr(state, input)])\n",
    "    \n",
    "    return integrator"
   ]
  },
  {
   "cell_type": "code",
   "execution_count": 28,
   "id": "87e9c64c",
   "metadata": {},
   "outputs": [],
   "source": [
    "import matplotlib.pyplot as plt\n",
    "import numpy as np"
   ]
  },
  {
   "cell_type": "code",
   "execution_count": 29,
   "id": "593fbcb5",
   "metadata": {},
   "outputs": [
    {
     "name": "stdout",
     "output_type": "stream",
     "text": [
      "[[0.     0.     0.0025 0.005 ]]\n",
      "[[0.00125 0.0025  0.005   0.01   ]]\n",
      "[[0.00375 0.0075  0.0075  0.015  ]]\n",
      "[[0.0075 0.015  0.01   0.02  ]]\n",
      "[[0.0125 0.025  0.0125 0.025 ]]\n",
      "[[0.01875 0.0375  0.015   0.03   ]]\n",
      "[[0.02625 0.0525  0.0175  0.035  ]]\n",
      "[[0.035 0.07  0.02  0.04 ]]\n",
      "[[0.045  0.09   0.0225 0.045 ]]\n"
     ]
    },
    {
     "data": {
      "text/plain": [
       "[<matplotlib.lines.Line2D at 0x153a530b4f0>]"
      ]
     },
     "execution_count": 29,
     "metadata": {},
     "output_type": "execute_result"
    },
    {
     "data": {
      "image/png": "[encoded data removed]",
      "text/plain": [
       "<Figure size 432x288 with 1 Axes>"
      ]
     },
     "metadata": {
      "needs_background": "light"
     },
     "output_type": "display_data"
    }
   ],
   "source": [
    "# Simulate the behavior of the system given a fixed input:\n",
    "init_state = np.array([0., 0., 0., 0.])\n",
    "input = np.array([0.5, 1.])\n",
    "    \n",
    "step_size = 0.5\n",
    "sim = generate_casadi_func_behavior(step_size)\n",
    "\n",
    "number_of_steps = 10\n",
    "states = np.zeros((number_of_states, number_of_steps))\n",
    "states[:,0] = init_state\n",
    "for i in range(1,number_of_steps):\n",
    "    previous_state = states[:,i-1]\n",
    "    current_state = np.array(sim(previous_state, input))\n",
    "    states[:, i] = np.squeeze(current_state)\n",
    "    print(current_state.T)    \n",
    "    \n",
    "# plot it out:\n",
    "plt.plot(states[0,:], states[1,:])\n",
    "#plt.show()"
   ]
  },
  {
   "cell_type": "code",
   "execution_count": 30,
   "id": "afa3f77b",
   "metadata": {
    "scrolled": true
   },
   "outputs": [],
   "source": [
    "def cost_state(current_state, state_reference):\n",
    "    diff = current_state - state_reference\n",
    "    location_error = diff[0]*diff[0] + diff[1]*diff[1]\n",
    "    velocity_error = diff[2]*diff[2] + diff[3]*diff[3]\n",
    "    \n",
    "    return 10*location_error + velocity_error\n",
    "\n",
    "def generate_cost_function(step_size, horizon): \n",
    "    \"\"\"\n",
    "    Single shot cost function.\n",
    "    \"\"\"\n",
    "    \n",
    "    # arguments get_next_state are (state, input)\n",
    "    get_next_state = generate_casadi_func_behavior(step_size)\n",
    "    \n",
    "    initial_state = cd.SX.sym('initial_state', number_of_states, 1)\n",
    "    input_all_steps = cd.SX.sym('input_all_steps', number_of_inputs*horizon, 1)\n",
    "    state_reference = cd.SX.sym('state_reference', number_of_states, 1)\n",
    "    \n",
    "    cost=cd.SX.sym('cost',1,1)\n",
    "    cost=0\n",
    "    current_state=initial_state\n",
    "    for i in range(1,horizon+1):\n",
    "        input = input_all_steps[(i-1)*number_of_inputs:i*number_of_inputs]\n",
    "        current_state = get_next_state(current_state, input)\n",
    "        cost = cost + cost_state(current_state, state_reference)\n",
    "    \n",
    "    cost_func = cd.Function('integrator', [initial_state, input_all_steps, state_reference], [cost])\n",
    "    \n",
    "    return cost_func"
   ]
  },
  {
   "cell_type": "code",
   "execution_count": 31,
   "id": "a19a8df4",
   "metadata": {},
   "outputs": [
    {
     "name": "stdout",
     "output_type": "stream",
     "text": [
      "[[5960.]]\n"
     ]
    }
   ],
   "source": [
    "# example using the cost function\n",
    "horizon = 4\n",
    "step_size = 1\n",
    "inputs = np.zeros((8, 1)) # use just 4 steps\n",
    "initial_state = np.zeros((4,1))\n",
    "\n",
    "state_reference = np.zeros((4,1))\n",
    "state_reference[0] = 10.\n",
    "state_reference[1] = 7.\n",
    "\n",
    "cost_func = generate_cost_function(step_size, horizon) \n",
    "\n",
    "print(np.array(cost_func(initial_state, inputs, state_reference)))"
   ]
  },
  {
   "cell_type": "code",
   "execution_count": 32,
   "id": "8f6fef81",
   "metadata": {},
   "outputs": [
    {
     "name": "stdout",
     "output_type": "stream",
     "text": [
      "S:(x0[40],p[],lbx[40],ubx[40],lbg[40],ubg[40],lam_x0[40],lam_g0[40])->(x[40],f,g[40],lam_x[40],lam_g[40],lam_p[]) IpoptInterface\n",
      "This is Ipopt version 3.14.4, running with linear solver MUMPS 5.2.1.\n",
      "\n",
      "Number of nonzeros in equality constraint Jacobian...:        0\n",
      "Number of nonzeros in inequality constraint Jacobian.:       40\n",
      "Number of nonzeros in Lagrangian Hessian.............:      420\n",
      "\n",
      "Total number of variables............................:       40\n",
      "                     variables with only lower bounds:        0\n",
      "                variables with lower and upper bounds:        0\n",
      "                     variables with only upper bounds:        0\n",
      "Total number of equality constraints.................:        0\n",
      "Total number of inequality constraints...............:       40\n",
      "        inequality constraints with only lower bounds:        0\n",
      "   inequality constraints with lower and upper bounds:       40\n",
      "        inequality constraints with only upper bounds:        0\n",
      "\n",
      "iter    objective    inf_pr   inf_du lg(mu)  ||d||  lg(rg) alpha_du alpha_pr  ls\n",
      "   0  2.9800000e+04 0.00e+00 5.00e+01  -1.0 0.00e+00    -  0.00e+00 0.00e+00   0\n",
      "   1  2.6628596e+04 0.00e+00 4.52e+01  -1.0 2.01e+01    -  9.01e-02 9.87e-02f  1\n",
      "   2  2.5115220e+04 0.00e+00 4.21e+01  -1.0 1.17e+01    -  1.91e-01 6.61e-02f  1\n",
      "   3  2.3396977e+04 0.00e+00 3.71e+01  -1.0 1.14e+01    -  1.76e-01 1.19e-01f  1\n",
      "   4  2.2660760e+04 0.00e+00 3.29e+01  -1.0 1.13e+01    -  1.82e-01 1.14e-01f  1\n",
      "   5  2.2273280e+04 0.00e+00 2.78e+01  -1.0 7.26e+00    -  2.65e-01 1.55e-01f  1\n",
      "   6  2.2119984e+04 0.00e+00 2.17e+01  -1.0 5.64e+00    -  3.31e-01 2.18e-01f  1\n",
      "   7  2.2067500e+04 0.00e+00 1.39e+01  -1.0 2.95e+00    -  5.20e-01 3.58e-01f  1\n",
      "   8  2.2047877e+04 0.00e+00 3.60e+00  -1.0 1.53e+00    -  9.78e-01 7.41e-01f  1\n",
      "   9  2.2047099e+04 0.00e+00 2.84e-14  -1.0 7.32e-01    -  1.00e+00 1.00e+00f  1\n",
      "iter    objective    inf_pr   inf_du lg(mu)  ||d||  lg(rg) alpha_du alpha_pr  ls\n",
      "  10  2.2033503e+04 0.00e+00 3.87e-03  -2.5 2.87e-01    -  9.44e-01 1.00e+00f  1\n",
      "  11  2.2032951e+04 0.00e+00 1.23e-03  -3.8 4.67e-01    -  8.32e-01 1.00e+00f  1\n",
      "  12  2.2032930e+04 0.00e+00 4.26e-14  -3.8 1.37e+00    -  1.00e+00 1.00e+00f  1\n",
      "  13  2.2032907e+04 0.00e+00 1.47e-06  -5.7 8.52e-02    -  9.86e-01 1.00e+00f  1\n",
      "  14  2.2032907e+04 0.00e+00 1.42e-14  -8.6 3.85e-03    -  1.00e+00 1.00e+00f  1\n",
      "\n",
      "Number of Iterations....: 14\n",
      "\n",
      "                                   (scaled)                 (unscaled)\n",
      "Objective...............:   5.7981334567070744e+03    2.2032907135486883e+04\n",
      "Dual infeasibility......:   1.4210854715202004e-14    5.4001247917767618e-14\n",
      "Constraint violation....:   0.0000000000000000e+00    0.0000000000000000e+00\n",
      "Variable bound violation:   0.0000000000000000e+00    0.0000000000000000e+00\n",
      "Complementarity.........:   3.5343112896234981e-09    1.3430382900569294e-08\n",
      "Overall NLP error.......:   3.5343112896234981e-09    1.3430382900569294e-08\n",
      "\n",
      "\n",
      "Number of objective function evaluations             = 15\n",
      "Number of objective gradient evaluations             = 15\n",
      "Number of equality constraint evaluations            = 0\n",
      "Number of inequality constraint evaluations          = 15\n",
      "Number of equality constraint Jacobian evaluations   = 0\n",
      "Number of inequality constraint Jacobian evaluations = 15\n",
      "Number of Lagrangian Hessian evaluations             = 14\n",
      "Total seconds in IPOPT                               = 0.053\n",
      "\n",
      "EXIT: Optimal Solution Found.\n",
      "           S  :   t_proc      (avg)   t_wall      (avg)    n_eval\n",
      "       nlp_f  |        0 (       0)  53.30us (  3.55us)        15\n",
      "       nlp_g  |        0 (       0)  75.80us (  5.05us)        15\n",
      "  nlp_grad_f  |        0 (       0)  65.50us (  4.09us)        16\n",
      "  nlp_hess_l  |        0 (       0) 216.30us ( 15.45us)        14\n",
      "   nlp_jac_g  |        0 (       0)  30.30us (  1.89us)        16\n",
      "       total  |  53.00ms ( 53.00ms)  53.73ms ( 53.73ms)         1\n"
     ]
    }
   ],
   "source": [
    "# solve an optimal control problem:\n",
    "horizon = 20\n",
    "step_size = 1\n",
    "\n",
    "state_reference = np.zeros((4,1))\n",
    "state_reference[0] = 10.\n",
    "state_reference[1] = 7.\n",
    "\n",
    "input_all_steps = cd.SX.sym('input_all_steps', number_of_inputs*horizon, 1)\n",
    "initial_state = np.zeros((4,1))\n",
    "\n",
    "cost_func = generate_cost_function(step_size, horizon)\n",
    "f_ = lambda inputs: cost_func(initial_state, input_all_steps, state_reference)\n",
    "g_ = lambda x: 0\n",
    "# min f \n",
    "#  st. g=0\n",
    "max_input = 2\n",
    "# 'g': cd.fmax(cd.fabs(input_all_steps),max_input)-max_input\n",
    "nlp = {'x': input_all_steps, 'f':f_(input_all_steps), 'g': input_all_steps}\n",
    "S = nlpsol('S', 'ipopt', nlp)\n",
    "print(S)\n",
    "\n",
    "initial_state_solver = np.zeros(input_all_steps.shape)\n",
    "#low = cd.SX.ones(initial_state_solver.shape)*max_input*-1\n",
    "#high = np.ones(initial_state_solver.shape)*max_input\n",
    "\n",
    "r = S(x0=initial_state_solver,lbg=-max_input, ubg=max_input)\n",
    "optimal_inputs = r['x']\n",
    "#print('x_opt: ', x_opt)\n",
    "#print(S)"
   ]
  },
  {
   "cell_type": "code",
   "execution_count": 33,
   "id": "c865bb86",
   "metadata": {},
   "outputs": [
    {
     "data": {
      "text/plain": [
       "DM(22032.9)"
      ]
     },
     "execution_count": 33,
     "metadata": {},
     "output_type": "execute_result"
    }
   ],
   "source": [
    "cost_func(initial_state, optimal_inputs, state_reference)"
   ]
  },
  {
   "cell_type": "code",
   "execution_count": 34,
   "id": "0009ddef",
   "metadata": {},
   "outputs": [
    {
     "data": {
      "text/plain": [
       "DM([2, 2, 2, 2, 2, 2, 2, 2, 2, 2, 2, 2, 2, 2, 2, 2, 2, 2, 2, 2, 2, 2, 2, 2, 2, 2, 2, 2, 2, 2, 2, 2, 2, 2, 2, 2, 2, 2, -2, -2])"
      ]
     },
     "execution_count": 34,
     "metadata": {},
     "output_type": "execute_result"
    }
   ],
   "source": [
    "optimal_inputs"
   ]
  },
  {
   "cell_type": "code",
   "execution_count": 35,
   "id": "9ed58107",
   "metadata": {},
   "outputs": [
    {
     "name": "stdout",
     "output_type": "stream",
     "text": [
      "simulating i=0\n",
      "simulating i=1\n",
      "simulating i=2\n",
      "simulating i=3\n",
      "simulating i=4\n",
      "simulating i=5\n",
      "simulating i=6\n",
      "simulating i=7\n",
      "simulating i=8\n",
      "simulating i=9\n",
      "simulating i=10\n",
      "simulating i=11\n",
      "simulating i=12\n",
      "simulating i=13\n",
      "simulating i=14\n",
      "simulating i=15\n",
      "simulating i=16\n",
      "simulating i=17\n",
      "simulating i=18\n",
      "simulating i=19\n"
     ]
    }
   ],
   "source": [
    "get_next_state = generate_casadi_func_behavior(step_size=1)\n",
    "\n",
    "simulated_states = np.zeros((number_of_states,horizon+1))\n",
    "for i in range(0, horizon):\n",
    "    print(\"simulating i=\" + str(i))\n",
    "    x = simulated_states[:,i]\n",
    "    u = optimal_inputs[(i)*number_of_inputs:(i+1)*number_of_inputs]\n",
    "    next_state = np.squeeze(get_next_state(x, u))\n",
    "    simulated_states[:,i+1] = next_state\n"
   ]
  },
  {
   "cell_type": "code",
   "execution_count": 36,
   "id": "61c81670",
   "metadata": {},
   "outputs": [
    {
     "name": "stdout",
     "output_type": "stream",
     "text": [
      "[[0.         0.         0.         0.        ]\n",
      " [0.         0.         0.02       0.02      ]\n",
      " [0.02       0.02       0.04       0.04      ]\n",
      " [0.06       0.06       0.06       0.06      ]\n",
      " [0.12       0.12       0.08       0.08      ]\n",
      " [0.2        0.2        0.1        0.1       ]\n",
      " [0.3        0.3        0.12       0.12      ]\n",
      " [0.42       0.42       0.14       0.14      ]\n",
      " [0.56000001 0.56000001 0.16       0.16      ]\n",
      " [0.72000001 0.72000001 0.18       0.18      ]\n",
      " [0.90000001 0.90000001 0.2        0.2       ]\n",
      " [1.10000001 1.10000001 0.22       0.22      ]\n",
      " [1.32000001 1.32000001 0.24       0.24      ]\n",
      " [1.56000002 1.56000002 0.26       0.26      ]\n",
      " [1.82000002 1.82000002 0.28       0.28      ]\n",
      " [2.10000002 2.10000002 0.3        0.3       ]\n",
      " [2.40000002 2.40000002 0.32       0.32      ]\n",
      " [2.72000003 2.72000003 0.34       0.34      ]\n",
      " [3.06000003 3.06000003 0.36       0.36      ]\n",
      " [3.42000003 3.42000003 0.38       0.38      ]\n",
      " [3.80000004 3.80000004 0.36000002 0.36000002]]\n",
      "[2, 2, 2, 2, 2, 2, 2, 2, 2, 2, 2, 2, 2, 2, 2, 2, 2, 2, 2, 2, 2, 2, 2, 2, 2, 2, 2, 2, 2, 2, 2, 2, 2, 2, 2, 2, 2, 2, -2, -2]\n"
     ]
    }
   ],
   "source": [
    "print(simulated_states.T)\n",
    "print(optimal_inputs)"
   ]
  },
  {
   "cell_type": "code",
   "execution_count": 37,
   "id": "e0f5d0b0",
   "metadata": {},
   "outputs": [
    {
     "data": {
      "text/plain": [
       "[<matplotlib.lines.Line2D at 0x153a535b970>]"
      ]
     },
     "execution_count": 37,
     "metadata": {},
     "output_type": "execute_result"
    },
    {
     "data": {
      "image/png": "[encoded data removed]",
      "text/plain": [
       "<Figure size 432x288 with 1 Axes>"
      ]
     },
     "metadata": {
      "needs_background": "light"
     },
     "output_type": "display_data"
    }
   ],
   "source": [
    "plt.plot(simulated_states[0,:], simulated_states[1,:])"
   ]
  },
  {
   "cell_type": "code",
   "execution_count": null,
   "id": "a401f6e6",
   "metadata": {},
   "outputs": [],
   "source": []
  }
 ],
 "metadata": {
  "kernelspec": {
   "display_name": "Python 3 (ipykernel)",
   "language": "python",
   "name": "python3"
  },
  "language_info": {
   "codemirror_mode": {
    "name": "ipython",
    "version": 3
   },
   "file_extension": ".py",
   "mimetype": "text/x-python",
   "name": "python",
   "nbconvert_exporter": "python",
   "pygments_lexer": "ipython3",
   "version": "3.8.12"
  }
 },
 "nbformat": 4,
 "nbformat_minor": 5
}
